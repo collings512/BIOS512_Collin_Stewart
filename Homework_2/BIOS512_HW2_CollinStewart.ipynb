{
  "metadata": {
    "kernelspec": {
      "name": "xr",
      "display_name": "R 4.4.3 (xr)",
      "language": "R"
    },
    "language_info": {
      "codemirror_mode": "",
      "file_extension": "R",
      "mimetype": "text/x-R",
      "name": "R",
      "nbconvert_exporter": "",
      "pygments_lexer": "",
      "version": "4.4.3"
    }
  },
  "nbformat_minor": 5,
  "nbformat": 4,
  "cells": [
    {
      "id": "510884df-0c08-45af-b996-53c8747001bc",
      "cell_type": "code",
      "source": "## Load Necessary Packages...\n##If you need to install tidyverse, you can use install.packages(\"tidyverse\"). If you already have tidyverse installed, you can just load the package:\n##install.packages(\"tidyverse\")\n##library(tidyverse)\n\n\n## Question 1\n##What are three ways that we can assign the value of 25 to y?\n\ny = 25\ny <- 25\ny <<- 25\ny\n",
      "metadata": {
        "trusted": true
      },
      "outputs": [
        {
          "execution_count": 8,
          "output_type": "execute_result",
          "data": {
            "text/plain": [
              "[1] 25"
            ]
          },
          "metadata": {}
        }
      ],
      "execution_count": 8
    },
    {
      "id": "d3aec535-b028-4844-bf0b-6fea7996bcbd",
      "cell_type": "code",
      "source": "## Question 2\n##How would I print the following line, including the quotes, in R? \n##**He said, \"I'm Garth Marenghi. Author. Dreamweaver. Visionary. Plus actor.\"**\n\n\nprint(\"He said, \\\"I'm Garth Marenghi. Author. Dreamweaver. Visionary. Plus actor.\\\"\")",
      "metadata": {
        "trusted": true
      },
      "outputs": [
        {
          "name": "stdout",
          "output_type": "stream",
          "text": "[1] \"He said, \\\"I'm Garth Marenghi. Author. Dreamweaver. Visionary. Plus actor.\\\"\"\n"
        }
      ],
      "execution_count": 9
    },
    {
      "id": "dc18613e-7d95-4280-bf92-3862d2e77ca3",
      "cell_type": "code",
      "source": "## Question 3\n\n##What if I wanted to add backslashes into the statement from Question 1 to make the statement below?\\\n##**He said, \"I'm Garth Marenghi. Author\\\\Dreamweaver\\\\Visionary. Plus actor.\"**\n\n\nprint(\"He said, \\\"I'm Garth Marenghi. Author\\\\Dreamweaver\\\\Visionary. Plus actor.\\\"\")",
      "metadata": {
        "trusted": true
      },
      "outputs": [
        {
          "name": "stdout",
          "output_type": "stream",
          "text": "[1] \"He said, \\\"I'm Garth Marenghi. Author\\\\Dreamweaver\\\\Visionary. Plus actor.\\\"\"\n"
        }
      ],
      "execution_count": 10
    },
    {
      "id": "197ca0cf-9aea-4e7c-b43c-5f3e6389d9ad",
      "cell_type": "code",
      "source": "## Question 4\n##Show two ways to get the following array: 1 2 3\n\n1:3\nc(1,2,3)",
      "metadata": {
        "trusted": true
      },
      "outputs": [
        {
          "execution_count": 11,
          "output_type": "execute_result",
          "data": {
            "text/plain": [
              "[1] 1 2 3"
            ]
          },
          "metadata": {}
        }
      ],
      "execution_count": 11
    },
    {
      "id": "d4e40e08-6e65-4f36-be34-3ef0b69bac1f",
      "cell_type": "code",
      "source": "## Question 5\n##What does R call things like +, -, sin(), c(), etc? What about \\<-?\n\n\n##They are called functions. <- is called the assignment function or assignment operator.",
      "metadata": {
        "trusted": true
      },
      "outputs": [],
      "execution_count": 12
    },
    {
      "id": "ea1f7e71-63ae-465d-8820-ad27435dbef2",
      "cell_type": "code",
      "source": "## Question 6\n##What's the difference in the way R processes the while() and the for() below?\n\nx <- 0;\nwhile (x <= 3) {\n    x <- x + 1;\n}\nx\n\nfor(y in c(1,2,3)) {\n     y <- y + 1;\n}\ny\n\n##The while() loop will run for an unspecified amount of time until the condition in the loop is no longer met (x exceeds the value of 3). Within the loop, the value of x is changed to add 1 each time. Each time R processes the loop, it checks the current value of x against the condition x<=3. This loop runs 4 times, at which point x=4, meaning that x<=3 is false, and the loop stops.\n##The for() loop will be evaluated by R a specified number of times (3 times), once for each of the values specified in the collection c(1,2,3). Each time the loop runs, y is initially assigned one of the values in c(1,2,3). Within the loop, the value of y is increased by 1, but the next time the loop runs, y is assigned the next value in c(1,2,3). After running for the predetermined third time (y<-3), the loop ends with y having a value of 4.",
      "metadata": {
        "trusted": true
      },
      "outputs": [
        {
          "execution_count": 15,
          "output_type": "execute_result",
          "data": {
            "text/plain": [
              "[1] 4"
            ]
          },
          "metadata": {}
        }
      ],
      "execution_count": 15
    },
    {
      "id": "1938b7a8-3c48-455c-9125-986f1233d85d",
      "cell_type": "code",
      "source": "## Question 7\n##Create the Pythagorean formula and evaluate it with a=3 and b=4. Print the output.\n\n\npythag <- function(a,b){\n  sqrt(a^2 + b^2);\n}\npythag(3,4)\n\n##Returns an answer of 5",
      "metadata": {
        "trusted": true
      },
      "outputs": [
        {
          "execution_count": 16,
          "output_type": "execute_result",
          "data": {
            "text/plain": [
              "[1] 5"
            ]
          },
          "metadata": {}
        }
      ],
      "execution_count": 16
    },
    {
      "id": "7dd2a22e-13dc-481f-bc79-64d04fb24981",
      "cell_type": "code",
      "source": "## Question 8\n##Load the help for the built in sin() function.\n\n?sin",
      "metadata": {
        "trusted": true
      },
      "outputs": [
        {
          "name": "stderr",
          "output_type": "stream",
          "text": "Error in get_help_file(file) : \n  package ‘base’ exists but was not installed under R >= 2.10.0 so help cannot be accessed\n"
        }
      ],
      "execution_count": null
    },
    {
      "id": "5c7f4013-9a7c-4120-8eca-88aaf6006cf4",
      "cell_type": "code",
      "source": "## Question 9\n##Which version of the counter function works? What is the difference in the way R processes the two functions?\n\ncounter1 <- function(start, step){\n    val <- start;\n    function(){\n        old_val <- val;\n        val <- val + step;\n        old_val;\n    }\n}\ncounter_from_1 <- counter1(1,1);\ncounter_from_1()\ncounter_from_1()\n\ncounter2 <- function(start, step){\n    val <- start;\n    function(){\n        old_val <- val;\n        val <<- val + step;\n        old_val;\n    }\n}\ncounter_from_1 <- counter2(1,1);\ncounter_from_1()\ncounter_from_1()\n\n##The second one, counter2, will work because it uses <<- within the encolosing environment of the nested function. This causes R to search through the parent environment and update the value of \"val\" after each evaluation. This allows the function to count properly, building upon the parent environment each time to count sequentially. \n##counter1 will not work because it does not use the <<- assignment operator. When using the <- assignment operator, value of \"val\" will only be updated in the encloseing/current environment, and will not be updated in the parent environment. \"Val\" in the parent environment will be stuck at 1, feeding into the second/nested function with the same value each time. Therefore, the value of \"val\" (input into the nested function) will always be reset to the value of \"start\", and counter1 will not be able to count.",
      "metadata": {
        "trusted": true
      },
      "outputs": [],
      "execution_count": null
    },
    {
      "id": "9361f896-89cb-4690-b303-082acb89e332",
      "cell_type": "code",
      "source": "## Question 10\n\n##a)  Use read_csv the cars.csv and store it in a data frame.\n##b)  Then, group the data frame by Make, get averages across the numeric variables, and then sort by Volume in descending order. Hint: Use summarise(across(c(<variable list>), mean)) to get the averages.\n\n\ncarsdf <- read_csv(\"C:\\\\Users\\\\colli\\\\BIOS512\\\\Homework_2\\\\cars.csv\")\n\ncarsdf %>%\n  group_by(Make) %>%\n  summarise(across(c(Volume,Weight,CO2), mean)) %>%\n  arrange(desc(Volume))\n",
      "metadata": {
        "trusted": true
      },
      "outputs": [],
      "execution_count": null
    },
    {
      "id": "ed446d10-6924-4eb3-8ae7-5e605c6ddbfc",
      "cell_type": "code",
      "source": "## Question 11\n##Make a function that returns the Fibonacci sequence, then call it 7 times to return the first 7 values of the sequence. Use the correct counter function from question 9 for inspiration.\n\n\nfibo_from_0 <- function(){\n  a <- 0\n  b <- 1\n    function() {\n      old_a <- a\n      increment <- a + b\n      a <<- b\n      b <<- increment\n      old_a\n  }\n}\n\nfibo <- fibo_from_0()\n\nfor(x in 1:7) {\n  print(fibo())\n}",
      "metadata": {
        "trusted": true
      },
      "outputs": [],
      "execution_count": null
    },
    {
      "id": "a500bebb-3f28-4220-8244-4620e4d66bee",
      "cell_type": "code",
      "source": "",
      "metadata": {
        "trusted": true
      },
      "outputs": [],
      "execution_count": null
    }
  ]
}